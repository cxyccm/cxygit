{
 "cells": [
  {
   "cell_type": "code",
   "execution_count": 1,
   "metadata": {},
   "outputs": [],
   "source": [
    "import pandas as pd"
   ]
  },
  {
   "cell_type": "code",
   "execution_count": null,
   "metadata": {},
   "outputs": [],
   "source": []
  },
  {
   "cell_type": "code",
   "execution_count": 34,
   "metadata": {},
   "outputs": [],
   "source": [
    "data=pd.read_csv('exer.csv',encoding='ANSI')"
   ]
  },
  {
   "cell_type": "code",
   "execution_count": 35,
   "metadata": {
    "scrolled": true
   },
   "outputs": [
    {
     "name": "stderr",
     "output_type": "stream",
     "text": [
      "E:\\setup\\anaconda\\lib\\site-packages\\ipykernel_launcher.py:1: FutureWarning: read_table is deprecated, use read_csv instead.\n",
      "  \"\"\"Entry point for launching an IPython kernel.\n"
     ]
    }
   ],
   "source": [
    "data=pd.read_table('exer.csv',encoding='ANSI',sep=',')"
   ]
  },
  {
   "cell_type": "code",
   "execution_count": 36,
   "metadata": {},
   "outputs": [],
   "source": [
    "keys=['amount', 'days', 'count', 'asserts', 'interval', 'repay', 'security', 'kind','is_break']"
   ]
  },
  {
   "cell_type": "code",
   "execution_count": 37,
   "metadata": {},
   "outputs": [],
   "source": [
    "data=pd.read_csv('exer.csv',encoding='ANSI',header=None)"
   ]
  },
  {
   "cell_type": "code",
   "execution_count": 43,
   "metadata": {},
   "outputs": [],
   "source": [
    "data=pd.read_csv('exer.csv',encoding='ANSI',header=None,names=keys)"
   ]
  },
  {
   "cell_type": "code",
   "execution_count": 44,
   "metadata": {},
   "outputs": [
    {
     "data": {
      "text/html": [
       "<div>\n",
       "<style scoped>\n",
       "    .dataframe tbody tr th:only-of-type {\n",
       "        vertical-align: middle;\n",
       "    }\n",
       "\n",
       "    .dataframe tbody tr th {\n",
       "        vertical-align: top;\n",
       "    }\n",
       "\n",
       "    .dataframe thead th {\n",
       "        text-align: right;\n",
       "    }\n",
       "</style>\n",
       "<table border=\"1\" class=\"dataframe\">\n",
       "  <thead>\n",
       "    <tr style=\"text-align: right;\">\n",
       "      <th></th>\n",
       "      <th>amount</th>\n",
       "      <th>days</th>\n",
       "      <th>count</th>\n",
       "      <th>asserts</th>\n",
       "      <th>interval</th>\n",
       "      <th>repay</th>\n",
       "      <th>security</th>\n",
       "      <th>kind</th>\n",
       "      <th>is_break</th>\n",
       "    </tr>\n",
       "  </thead>\n",
       "  <tbody>\n",
       "    <tr>\n",
       "      <th>0</th>\n",
       "      <td>470000.0</td>\n",
       "      <td>6939</td>\n",
       "      <td>1.0</td>\n",
       "      <td>16421.58</td>\n",
       "      <td>0</td>\n",
       "      <td>NaN</td>\n",
       "      <td>抵押</td>\n",
       "      <td>住房</td>\n",
       "      <td>0</td>\n",
       "    </tr>\n",
       "    <tr>\n",
       "      <th>1</th>\n",
       "      <td>310000.0</td>\n",
       "      <td>5113</td>\n",
       "      <td>NaN</td>\n",
       "      <td>3010.21</td>\n",
       "      <td>0</td>\n",
       "      <td>等额本金</td>\n",
       "      <td>抵押</td>\n",
       "      <td>住房</td>\n",
       "      <td>0</td>\n",
       "    </tr>\n",
       "    <tr>\n",
       "      <th>2</th>\n",
       "      <td>400000.0</td>\n",
       "      <td>1096</td>\n",
       "      <td>2.0</td>\n",
       "      <td>3453.84</td>\n",
       "      <td>-5700</td>\n",
       "      <td>等额本息</td>\n",
       "      <td>抵押</td>\n",
       "      <td>汽车</td>\n",
       "      <td>0</td>\n",
       "    </tr>\n",
       "    <tr>\n",
       "      <th>3</th>\n",
       "      <td>320000.0</td>\n",
       "      <td>7305</td>\n",
       "      <td>1.0</td>\n",
       "      <td>1844.25</td>\n",
       "      <td>0</td>\n",
       "      <td>等额本息</td>\n",
       "      <td>抵押</td>\n",
       "      <td>住房</td>\n",
       "      <td>0</td>\n",
       "    </tr>\n",
       "  </tbody>\n",
       "</table>\n",
       "</div>"
      ],
      "text/plain": [
       "     amount  days  count   asserts  interval repay security kind  is_break\n",
       "0  470000.0  6939    1.0  16421.58         0   NaN       抵押   住房         0\n",
       "1  310000.0  5113    NaN   3010.21         0  等额本金       抵押   住房         0\n",
       "2  400000.0  1096    2.0   3453.84     -5700  等额本息       抵押   汽车         0\n",
       "3  320000.0  7305    1.0   1844.25         0  等额本息       抵押   住房         0"
      ]
     },
     "execution_count": 44,
     "metadata": {},
     "output_type": "execute_result"
    }
   ],
   "source": [
    "data"
   ]
  },
  {
   "cell_type": "code",
   "execution_count": 62,
   "metadata": {},
   "outputs": [],
   "source": [
    "data2=pd.read_csv('exer.csv',encoding='ANSI',header=None,names=keys, na_values=['foo',\"住房\"])"
   ]
  },
  {
   "cell_type": "code",
   "execution_count": 63,
   "metadata": {},
   "outputs": [
    {
     "data": {
      "text/html": [
       "<div>\n",
       "<style scoped>\n",
       "    .dataframe tbody tr th:only-of-type {\n",
       "        vertical-align: middle;\n",
       "    }\n",
       "\n",
       "    .dataframe tbody tr th {\n",
       "        vertical-align: top;\n",
       "    }\n",
       "\n",
       "    .dataframe thead th {\n",
       "        text-align: right;\n",
       "    }\n",
       "</style>\n",
       "<table border=\"1\" class=\"dataframe\">\n",
       "  <thead>\n",
       "    <tr style=\"text-align: right;\">\n",
       "      <th></th>\n",
       "      <th>amount</th>\n",
       "      <th>days</th>\n",
       "      <th>count</th>\n",
       "      <th>asserts</th>\n",
       "      <th>interval</th>\n",
       "      <th>repay</th>\n",
       "      <th>security</th>\n",
       "      <th>kind</th>\n",
       "      <th>is_break</th>\n",
       "    </tr>\n",
       "  </thead>\n",
       "  <tbody>\n",
       "    <tr>\n",
       "      <th>0</th>\n",
       "      <td>470000.0</td>\n",
       "      <td>6939</td>\n",
       "      <td>1.0</td>\n",
       "      <td>16421.58</td>\n",
       "      <td>0</td>\n",
       "      <td>NaN</td>\n",
       "      <td>NaN</td>\n",
       "      <td>住房</td>\n",
       "      <td>0</td>\n",
       "    </tr>\n",
       "    <tr>\n",
       "      <th>1</th>\n",
       "      <td>310000.0</td>\n",
       "      <td>5113</td>\n",
       "      <td>NaN</td>\n",
       "      <td>3010.21</td>\n",
       "      <td>0</td>\n",
       "      <td>等额本金</td>\n",
       "      <td>抵押</td>\n",
       "      <td>住房</td>\n",
       "      <td>0</td>\n",
       "    </tr>\n",
       "    <tr>\n",
       "      <th>2</th>\n",
       "      <td>400000.0</td>\n",
       "      <td>1096</td>\n",
       "      <td>2.0</td>\n",
       "      <td>3453.84</td>\n",
       "      <td>-5700</td>\n",
       "      <td>等额本息</td>\n",
       "      <td>抵押</td>\n",
       "      <td>汽车</td>\n",
       "      <td>0</td>\n",
       "    </tr>\n",
       "    <tr>\n",
       "      <th>3</th>\n",
       "      <td>320000.0</td>\n",
       "      <td>7305</td>\n",
       "      <td>1.0</td>\n",
       "      <td>1844.25</td>\n",
       "      <td>0</td>\n",
       "      <td>等额本息</td>\n",
       "      <td>抵押</td>\n",
       "      <td>住房</td>\n",
       "      <td>0</td>\n",
       "    </tr>\n",
       "  </tbody>\n",
       "</table>\n",
       "</div>"
      ],
      "text/plain": [
       "     amount  days  count   asserts  interval repay security kind  is_break\n",
       "0  470000.0  6939    1.0  16421.58         0   NaN      NaN   住房         0\n",
       "1  310000.0  5113    NaN   3010.21         0  等额本金       抵押   住房         0\n",
       "2  400000.0  1096    2.0   3453.84     -5700  等额本息       抵押   汽车         0\n",
       "3  320000.0  7305    1.0   1844.25         0  等额本息       抵押   住房         0"
      ]
     },
     "execution_count": 63,
     "metadata": {},
     "output_type": "execute_result"
    }
   ],
   "source": [
    "data2"
   ]
  },
  {
   "cell_type": "code",
   "execution_count": null,
   "metadata": {},
   "outputs": [],
   "source": []
  },
  {
   "cell_type": "code",
   "execution_count": null,
   "metadata": {},
   "outputs": [],
   "source": []
  }
 ],
 "metadata": {
  "kernelspec": {
   "display_name": "Python 3",
   "language": "python",
   "name": "python3"
  },
  "language_info": {
   "codemirror_mode": {
    "name": "ipython",
    "version": 3
   },
   "file_extension": ".py",
   "mimetype": "text/x-python",
   "name": "python",
   "nbconvert_exporter": "python",
   "pygments_lexer": "ipython3",
   "version": "3.7.3"
  }
 },
 "nbformat": 4,
 "nbformat_minor": 2
}
