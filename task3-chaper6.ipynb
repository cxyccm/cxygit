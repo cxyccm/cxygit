{
 "cells": [
  {
   "cell_type": "code",
   "execution_count": 1,
   "metadata": {},
   "outputs": [],
   "source": [
    "import pandas as pd"
   ]
  },
  {
   "cell_type": "code",
   "execution_count": null,
   "metadata": {},
   "outputs": [],
   "source": []
  },
  {
   "cell_type": "code",
   "execution_count": 34,
   "metadata": {},
   "outputs": [],
   "source": [
    "data=pd.read_csv('exer.csv',encoding='ANSI')"
   ]
  },
  {
   "cell_type": "code",
   "execution_count": 35,
   "metadata": {
    "scrolled": true
   },
   "outputs": [
    {
     "name": "stderr",
     "output_type": "stream",
     "text": [
      "E:\\setup\\anaconda\\lib\\site-packages\\ipykernel_launcher.py:1: FutureWarning: read_table is deprecated, use read_csv instead.\n",
      "  \"\"\"Entry point for launching an IPython kernel.\n"
     ]
    }
   ],
   "source": [
    "data=pd.read_table('exer.csv',encoding='ANSI',sep=',')"
   ]
  },
  {
   "cell_type": "code",
   "execution_count": 36,
   "metadata": {},
   "outputs": [],
   "source": [
    "keys=['amount', 'days', 'count', 'asserts', 'interval', 'repay', 'security', 'kind','is_break']"
   ]
  },
  {
   "cell_type": "code",
   "execution_count": 37,
   "metadata": {},
   "outputs": [],
   "source": [
    "data=pd.read_csv('exer.csv',encoding='ANSI',header=None)"
   ]
  },
  {
   "cell_type": "code",
   "execution_count": 43,
   "metadata": {},
   "outputs": [],
   "source": [
    "data=pd.read_csv('exer.csv',encoding='ANSI',header=None,names=keys)"
   ]
  },
  {
   "cell_type": "code",
   "execution_count": 44,
   "metadata": {},
   "outputs": [
    {
     "data": {
      "text/html": [
       "<div>\n",
       "<style scoped>\n",
       "    .dataframe tbody tr th:only-of-type {\n",
       "        vertical-align: middle;\n",
       "    }\n",
       "\n",
       "    .dataframe tbody tr th {\n",
       "        vertical-align: top;\n",
       "    }\n",
       "\n",
       "    .dataframe thead th {\n",
       "        text-align: right;\n",
       "    }\n",
       "</style>\n",
       "<table border=\"1\" class=\"dataframe\">\n",
       "  <thead>\n",
       "    <tr style=\"text-align: right;\">\n",
       "      <th></th>\n",
       "      <th>amount</th>\n",
       "      <th>days</th>\n",
       "      <th>count</th>\n",
       "      <th>asserts</th>\n",
       "      <th>interval</th>\n",
       "      <th>repay</th>\n",
       "      <th>security</th>\n",
       "      <th>kind</th>\n",
       "      <th>is_break</th>\n",
       "    </tr>\n",
       "  </thead>\n",
       "  <tbody>\n",
       "    <tr>\n",
       "      <th>0</th>\n",
       "      <td>470000.0</td>\n",
       "      <td>6939</td>\n",
       "      <td>1.0</td>\n",
       "      <td>16421.58</td>\n",
       "      <td>0</td>\n",
       "      <td>NaN</td>\n",
       "      <td>抵押</td>\n",
       "      <td>住房</td>\n",
       "      <td>0</td>\n",
       "    </tr>\n",
       "    <tr>\n",
       "      <th>1</th>\n",
       "      <td>310000.0</td>\n",
       "      <td>5113</td>\n",
       "      <td>NaN</td>\n",
       "      <td>3010.21</td>\n",
       "      <td>0</td>\n",
       "      <td>等额本金</td>\n",
       "      <td>抵押</td>\n",
       "      <td>住房</td>\n",
       "      <td>0</td>\n",
       "    </tr>\n",
       "    <tr>\n",
       "      <th>2</th>\n",
       "      <td>400000.0</td>\n",
       "      <td>1096</td>\n",
       "      <td>2.0</td>\n",
       "      <td>3453.84</td>\n",
       "      <td>-5700</td>\n",
       "      <td>等额本息</td>\n",
       "      <td>抵押</td>\n",
       "      <td>汽车</td>\n",
       "      <td>0</td>\n",
       "    </tr>\n",
       "    <tr>\n",
       "      <th>3</th>\n",
       "      <td>320000.0</td>\n",
       "      <td>7305</td>\n",
       "      <td>1.0</td>\n",
       "      <td>1844.25</td>\n",
       "      <td>0</td>\n",
       "      <td>等额本息</td>\n",
       "      <td>抵押</td>\n",
       "      <td>住房</td>\n",
       "      <td>0</td>\n",
       "    </tr>\n",
       "  </tbody>\n",
       "</table>\n",
       "</div>"
      ],
      "text/plain": [
       "     amount  days  count   asserts  interval repay security kind  is_break\n",
       "0  470000.0  6939    1.0  16421.58         0   NaN       抵押   住房         0\n",
       "1  310000.0  5113    NaN   3010.21         0  等额本金       抵押   住房         0\n",
       "2  400000.0  1096    2.0   3453.84     -5700  等额本息       抵押   汽车         0\n",
       "3  320000.0  7305    1.0   1844.25         0  等额本息       抵押   住房         0"
      ]
     },
     "execution_count": 44,
     "metadata": {},
     "output_type": "execute_result"
    }
   ],
   "source": [
    "data"
   ]
  },
  {
   "cell_type": "code",
   "execution_count": 62,
   "metadata": {},
   "outputs": [],
   "source": [
    "data2=pd.read_csv('exer.csv',encoding='ANSI',header=None,names=keys, na_values=['foo',\"住房\"])"
   ]
  },
  {
   "cell_type": "code",
   "execution_count": 63,
   "metadata": {
    "scrolled": true
   },
   "outputs": [
    {
     "data": {
      "text/html": [
       "<div>\n",
       "<style scoped>\n",
       "    .dataframe tbody tr th:only-of-type {\n",
       "        vertical-align: middle;\n",
       "    }\n",
       "\n",
       "    .dataframe tbody tr th {\n",
       "        vertical-align: top;\n",
       "    }\n",
       "\n",
       "    .dataframe thead th {\n",
       "        text-align: right;\n",
       "    }\n",
       "</style>\n",
       "<table border=\"1\" class=\"dataframe\">\n",
       "  <thead>\n",
       "    <tr style=\"text-align: right;\">\n",
       "      <th></th>\n",
       "      <th>amount</th>\n",
       "      <th>days</th>\n",
       "      <th>count</th>\n",
       "      <th>asserts</th>\n",
       "      <th>interval</th>\n",
       "      <th>repay</th>\n",
       "      <th>security</th>\n",
       "      <th>kind</th>\n",
       "      <th>is_break</th>\n",
       "    </tr>\n",
       "  </thead>\n",
       "  <tbody>\n",
       "    <tr>\n",
       "      <th>0</th>\n",
       "      <td>470000.0</td>\n",
       "      <td>6939</td>\n",
       "      <td>1.0</td>\n",
       "      <td>16421.58</td>\n",
       "      <td>0</td>\n",
       "      <td>NaN</td>\n",
       "      <td>NaN</td>\n",
       "      <td>住房</td>\n",
       "      <td>0</td>\n",
       "    </tr>\n",
       "    <tr>\n",
       "      <th>1</th>\n",
       "      <td>310000.0</td>\n",
       "      <td>5113</td>\n",
       "      <td>NaN</td>\n",
       "      <td>3010.21</td>\n",
       "      <td>0</td>\n",
       "      <td>等额本金</td>\n",
       "      <td>抵押</td>\n",
       "      <td>住房</td>\n",
       "      <td>0</td>\n",
       "    </tr>\n",
       "    <tr>\n",
       "      <th>2</th>\n",
       "      <td>400000.0</td>\n",
       "      <td>1096</td>\n",
       "      <td>2.0</td>\n",
       "      <td>3453.84</td>\n",
       "      <td>-5700</td>\n",
       "      <td>等额本息</td>\n",
       "      <td>抵押</td>\n",
       "      <td>汽车</td>\n",
       "      <td>0</td>\n",
       "    </tr>\n",
       "    <tr>\n",
       "      <th>3</th>\n",
       "      <td>320000.0</td>\n",
       "      <td>7305</td>\n",
       "      <td>1.0</td>\n",
       "      <td>1844.25</td>\n",
       "      <td>0</td>\n",
       "      <td>等额本息</td>\n",
       "      <td>抵押</td>\n",
       "      <td>住房</td>\n",
       "      <td>0</td>\n",
       "    </tr>\n",
       "  </tbody>\n",
       "</table>\n",
       "</div>"
      ],
      "text/plain": [
       "     amount  days  count   asserts  interval repay security kind  is_break\n",
       "0  470000.0  6939    1.0  16421.58         0   NaN      NaN   住房         0\n",
       "1  310000.0  5113    NaN   3010.21         0  等额本金       抵押   住房         0\n",
       "2  400000.0  1096    2.0   3453.84     -5700  等额本息       抵押   汽车         0\n",
       "3  320000.0  7305    1.0   1844.25         0  等额本息       抵押   住房         0"
      ]
     },
     "execution_count": 63,
     "metadata": {},
     "output_type": "execute_result"
    }
   ],
   "source": [
    "data2"
   ]
  },
  {
   "cell_type": "code",
   "execution_count": 69,
   "metadata": {},
   "outputs": [],
   "source": [
    "pd.options.display.max_rows=15"
   ]
  },
  {
   "cell_type": "code",
   "execution_count": 70,
   "metadata": {},
   "outputs": [],
   "source": [
    "data=pd.read_csv('train_data.csv',encoding='ANSI',header=None,names=keys)"
   ]
  },
  {
   "cell_type": "code",
   "execution_count": 71,
   "metadata": {},
   "outputs": [
    {
     "data": {
      "text/html": [
       "<div>\n",
       "<style scoped>\n",
       "    .dataframe tbody tr th:only-of-type {\n",
       "        vertical-align: middle;\n",
       "    }\n",
       "\n",
       "    .dataframe tbody tr th {\n",
       "        vertical-align: top;\n",
       "    }\n",
       "\n",
       "    .dataframe thead th {\n",
       "        text-align: right;\n",
       "    }\n",
       "</style>\n",
       "<table border=\"1\" class=\"dataframe\">\n",
       "  <thead>\n",
       "    <tr style=\"text-align: right;\">\n",
       "      <th></th>\n",
       "      <th>amount</th>\n",
       "      <th>days</th>\n",
       "      <th>count</th>\n",
       "      <th>asserts</th>\n",
       "      <th>interval</th>\n",
       "      <th>repay</th>\n",
       "      <th>security</th>\n",
       "      <th>kind</th>\n",
       "      <th>is_break</th>\n",
       "    </tr>\n",
       "  </thead>\n",
       "  <tbody>\n",
       "    <tr>\n",
       "      <th>0</th>\n",
       "      <td>470000.0</td>\n",
       "      <td>6939</td>\n",
       "      <td>1</td>\n",
       "      <td>16421.58</td>\n",
       "      <td>0</td>\n",
       "      <td>等额本金</td>\n",
       "      <td>抵押</td>\n",
       "      <td>住房</td>\n",
       "      <td>0</td>\n",
       "    </tr>\n",
       "    <tr>\n",
       "      <th>1</th>\n",
       "      <td>310000.0</td>\n",
       "      <td>5113</td>\n",
       "      <td>1</td>\n",
       "      <td>3010.21</td>\n",
       "      <td>0</td>\n",
       "      <td>等额本金</td>\n",
       "      <td>抵押</td>\n",
       "      <td>住房</td>\n",
       "      <td>0</td>\n",
       "    </tr>\n",
       "    <tr>\n",
       "      <th>2</th>\n",
       "      <td>400000.0</td>\n",
       "      <td>1096</td>\n",
       "      <td>2</td>\n",
       "      <td>3453.84</td>\n",
       "      <td>-5700</td>\n",
       "      <td>等额本息</td>\n",
       "      <td>抵押</td>\n",
       "      <td>汽车</td>\n",
       "      <td>0</td>\n",
       "    </tr>\n",
       "    <tr>\n",
       "      <th>3</th>\n",
       "      <td>320000.0</td>\n",
       "      <td>7305</td>\n",
       "      <td>1</td>\n",
       "      <td>1844.25</td>\n",
       "      <td>0</td>\n",
       "      <td>等额本息</td>\n",
       "      <td>抵押</td>\n",
       "      <td>住房</td>\n",
       "      <td>0</td>\n",
       "    </tr>\n",
       "    <tr>\n",
       "      <th>4</th>\n",
       "      <td>50000.0</td>\n",
       "      <td>1095</td>\n",
       "      <td>1</td>\n",
       "      <td>314.88</td>\n",
       "      <td>0</td>\n",
       "      <td>按周期结息到期还本</td>\n",
       "      <td>信用</td>\n",
       "      <td>农、林、牧、渔业</td>\n",
       "      <td>0</td>\n",
       "    </tr>\n",
       "    <tr>\n",
       "      <th>5</th>\n",
       "      <td>50000.0</td>\n",
       "      <td>1096</td>\n",
       "      <td>1</td>\n",
       "      <td>11381.27</td>\n",
       "      <td>0</td>\n",
       "      <td>按周期结息到期还本</td>\n",
       "      <td>信用</td>\n",
       "      <td>农、林、牧、渔业</td>\n",
       "      <td>0</td>\n",
       "    </tr>\n",
       "    <tr>\n",
       "      <th>6</th>\n",
       "      <td>880000.0</td>\n",
       "      <td>7305</td>\n",
       "      <td>1</td>\n",
       "      <td>994.15</td>\n",
       "      <td>0</td>\n",
       "      <td>等额本金</td>\n",
       "      <td>抵押</td>\n",
       "      <td>住房</td>\n",
       "      <td>0</td>\n",
       "    </tr>\n",
       "    <tr>\n",
       "      <th>...</th>\n",
       "      <td>...</td>\n",
       "      <td>...</td>\n",
       "      <td>...</td>\n",
       "      <td>...</td>\n",
       "      <td>...</td>\n",
       "      <td>...</td>\n",
       "      <td>...</td>\n",
       "      <td>...</td>\n",
       "      <td>...</td>\n",
       "    </tr>\n",
       "    <tr>\n",
       "      <th>333753</th>\n",
       "      <td>380000.0</td>\n",
       "      <td>7305</td>\n",
       "      <td>1</td>\n",
       "      <td>653.96</td>\n",
       "      <td>0</td>\n",
       "      <td>等额本金</td>\n",
       "      <td>抵押</td>\n",
       "      <td>住房</td>\n",
       "      <td>0</td>\n",
       "    </tr>\n",
       "    <tr>\n",
       "      <th>333754</th>\n",
       "      <td>100000.0</td>\n",
       "      <td>365</td>\n",
       "      <td>3</td>\n",
       "      <td>1657.66</td>\n",
       "      <td>-363</td>\n",
       "      <td>按周期结息到期还本</td>\n",
       "      <td>抵押</td>\n",
       "      <td>建筑业</td>\n",
       "      <td>0</td>\n",
       "    </tr>\n",
       "    <tr>\n",
       "      <th>333755</th>\n",
       "      <td>269000.0</td>\n",
       "      <td>7305</td>\n",
       "      <td>1</td>\n",
       "      <td>445.20</td>\n",
       "      <td>0</td>\n",
       "      <td>等额本息</td>\n",
       "      <td>保证</td>\n",
       "      <td>住房</td>\n",
       "      <td>0</td>\n",
       "    </tr>\n",
       "    <tr>\n",
       "      <th>333756</th>\n",
       "      <td>200000.0</td>\n",
       "      <td>365</td>\n",
       "      <td>1</td>\n",
       "      <td>149.62</td>\n",
       "      <td>0</td>\n",
       "      <td>按周期结息到期还本</td>\n",
       "      <td>抵押</td>\n",
       "      <td>其他</td>\n",
       "      <td>0</td>\n",
       "    </tr>\n",
       "    <tr>\n",
       "      <th>333757</th>\n",
       "      <td>10000.0</td>\n",
       "      <td>3653</td>\n",
       "      <td>8</td>\n",
       "      <td>427.84</td>\n",
       "      <td>-3540</td>\n",
       "      <td>等额本息</td>\n",
       "      <td>抵押</td>\n",
       "      <td>其他</td>\n",
       "      <td>0</td>\n",
       "    </tr>\n",
       "    <tr>\n",
       "      <th>333758</th>\n",
       "      <td>900000.0</td>\n",
       "      <td>10957</td>\n",
       "      <td>1</td>\n",
       "      <td>597.84</td>\n",
       "      <td>0</td>\n",
       "      <td>等额本金</td>\n",
       "      <td>抵押</td>\n",
       "      <td>住房</td>\n",
       "      <td>0</td>\n",
       "    </tr>\n",
       "    <tr>\n",
       "      <th>333759</th>\n",
       "      <td>900000.0</td>\n",
       "      <td>1826</td>\n",
       "      <td>16</td>\n",
       "      <td>79.29</td>\n",
       "      <td>-1825</td>\n",
       "      <td>阶段性等额本息</td>\n",
       "      <td>抵押</td>\n",
       "      <td>住宿和餐饮业</td>\n",
       "      <td>1</td>\n",
       "    </tr>\n",
       "  </tbody>\n",
       "</table>\n",
       "<p>333760 rows × 9 columns</p>\n",
       "</div>"
      ],
      "text/plain": [
       "          amount   days  count   asserts  interval      repay security  \\\n",
       "0       470000.0   6939      1  16421.58         0       等额本金       抵押   \n",
       "1       310000.0   5113      1   3010.21         0       等额本金       抵押   \n",
       "2       400000.0   1096      2   3453.84     -5700       等额本息       抵押   \n",
       "3       320000.0   7305      1   1844.25         0       等额本息       抵押   \n",
       "4        50000.0   1095      1    314.88         0  按周期结息到期还本       信用   \n",
       "5        50000.0   1096      1  11381.27         0  按周期结息到期还本       信用   \n",
       "6       880000.0   7305      1    994.15         0       等额本金       抵押   \n",
       "...          ...    ...    ...       ...       ...        ...      ...   \n",
       "333753  380000.0   7305      1    653.96         0       等额本金       抵押   \n",
       "333754  100000.0    365      3   1657.66      -363  按周期结息到期还本       抵押   \n",
       "333755  269000.0   7305      1    445.20         0       等额本息       保证   \n",
       "333756  200000.0    365      1    149.62         0  按周期结息到期还本       抵押   \n",
       "333757   10000.0   3653      8    427.84     -3540       等额本息       抵押   \n",
       "333758  900000.0  10957      1    597.84         0       等额本金       抵押   \n",
       "333759  900000.0   1826     16     79.29     -1825    阶段性等额本息       抵押   \n",
       "\n",
       "            kind  is_break  \n",
       "0             住房         0  \n",
       "1             住房         0  \n",
       "2             汽车         0  \n",
       "3             住房         0  \n",
       "4       农、林、牧、渔业         0  \n",
       "5       农、林、牧、渔业         0  \n",
       "6             住房         0  \n",
       "...          ...       ...  \n",
       "333753        住房         0  \n",
       "333754       建筑业         0  \n",
       "333755        住房         0  \n",
       "333756        其他         0  \n",
       "333757        其他         0  \n",
       "333758        住房         0  \n",
       "333759    住宿和餐饮业         1  \n",
       "\n",
       "[333760 rows x 9 columns]"
      ]
     },
     "execution_count": 71,
     "metadata": {},
     "output_type": "execute_result"
    }
   ],
   "source": [
    "data"
   ]
  },
  {
   "cell_type": "code",
   "execution_count": 73,
   "metadata": {},
   "outputs": [],
   "source": [
    "data=pd.read_csv('train_data.csv',encoding='ANSI',header=None,names=keys, nrows=5)"
   ]
  },
  {
   "cell_type": "code",
   "execution_count": 105,
   "metadata": {},
   "outputs": [
    {
     "data": {
      "text/html": [
       "<div>\n",
       "<style scoped>\n",
       "    .dataframe tbody tr th:only-of-type {\n",
       "        vertical-align: middle;\n",
       "    }\n",
       "\n",
       "    .dataframe tbody tr th {\n",
       "        vertical-align: top;\n",
       "    }\n",
       "\n",
       "    .dataframe thead th {\n",
       "        text-align: right;\n",
       "    }\n",
       "</style>\n",
       "<table border=\"1\" class=\"dataframe\">\n",
       "  <thead>\n",
       "    <tr style=\"text-align: right;\">\n",
       "      <th></th>\n",
       "      <th>amount</th>\n",
       "      <th>days</th>\n",
       "      <th>count</th>\n",
       "      <th>asserts</th>\n",
       "      <th>interval</th>\n",
       "      <th>repay</th>\n",
       "      <th>security</th>\n",
       "      <th>kind</th>\n",
       "      <th>is_break</th>\n",
       "    </tr>\n",
       "  </thead>\n",
       "  <tbody>\n",
       "    <tr>\n",
       "      <th>0</th>\n",
       "      <td>470000.0</td>\n",
       "      <td>6939</td>\n",
       "      <td>1</td>\n",
       "      <td>16421.58</td>\n",
       "      <td>0</td>\n",
       "      <td>等额本金</td>\n",
       "      <td>抵押</td>\n",
       "      <td>住房</td>\n",
       "      <td>0</td>\n",
       "    </tr>\n",
       "    <tr>\n",
       "      <th>1</th>\n",
       "      <td>310000.0</td>\n",
       "      <td>5113</td>\n",
       "      <td>1</td>\n",
       "      <td>3010.21</td>\n",
       "      <td>0</td>\n",
       "      <td>等额本金</td>\n",
       "      <td>抵押</td>\n",
       "      <td>住房</td>\n",
       "      <td>0</td>\n",
       "    </tr>\n",
       "    <tr>\n",
       "      <th>2</th>\n",
       "      <td>400000.0</td>\n",
       "      <td>1096</td>\n",
       "      <td>2</td>\n",
       "      <td>3453.84</td>\n",
       "      <td>-5700</td>\n",
       "      <td>等额本息</td>\n",
       "      <td>抵押</td>\n",
       "      <td>汽车</td>\n",
       "      <td>0</td>\n",
       "    </tr>\n",
       "    <tr>\n",
       "      <th>3</th>\n",
       "      <td>320000.0</td>\n",
       "      <td>7305</td>\n",
       "      <td>1</td>\n",
       "      <td>1844.25</td>\n",
       "      <td>0</td>\n",
       "      <td>等额本息</td>\n",
       "      <td>抵押</td>\n",
       "      <td>住房</td>\n",
       "      <td>0</td>\n",
       "    </tr>\n",
       "    <tr>\n",
       "      <th>4</th>\n",
       "      <td>50000.0</td>\n",
       "      <td>1095</td>\n",
       "      <td>1</td>\n",
       "      <td>314.88</td>\n",
       "      <td>0</td>\n",
       "      <td>按周期结息到期还本</td>\n",
       "      <td>信用</td>\n",
       "      <td>农、林、牧、渔业</td>\n",
       "      <td>0</td>\n",
       "    </tr>\n",
       "  </tbody>\n",
       "</table>\n",
       "</div>"
      ],
      "text/plain": [
       "     amount  days  count   asserts  interval      repay security      kind  \\\n",
       "0  470000.0  6939      1  16421.58         0       等额本金       抵押        住房   \n",
       "1  310000.0  5113      1   3010.21         0       等额本金       抵押        住房   \n",
       "2  400000.0  1096      2   3453.84     -5700       等额本息       抵押        汽车   \n",
       "3  320000.0  7305      1   1844.25         0       等额本息       抵押        住房   \n",
       "4   50000.0  1095      1    314.88         0  按周期结息到期还本       信用  农、林、牧、渔业   \n",
       "\n",
       "   is_break  \n",
       "0         0  \n",
       "1         0  \n",
       "2         0  \n",
       "3         0  \n",
       "4         0  "
      ]
     },
     "execution_count": 105,
     "metadata": {},
     "output_type": "execute_result"
    }
   ],
   "source": [
    "data"
   ]
  },
  {
   "cell_type": "code",
   "execution_count": 99,
   "metadata": {},
   "outputs": [],
   "source": [
    "chunke=pd.read_csv('train_data.csv',encoding='ANSI',header=None,names=keys, chunksize=1000)"
   ]
  },
  {
   "cell_type": "code",
   "execution_count": 100,
   "metadata": {},
   "outputs": [
    {
     "data": {
      "text/plain": [
       "<pandas.io.parsers.TextFileReader at 0x5e49f98>"
      ]
     },
     "execution_count": 100,
     "metadata": {},
     "output_type": "execute_result"
    }
   ],
   "source": [
    "chunke"
   ]
  },
  {
   "cell_type": "code",
   "execution_count": 101,
   "metadata": {},
   "outputs": [],
   "source": [
    "tot=pd.Series([])"
   ]
  },
  {
   "cell_type": "code",
   "execution_count": 92,
   "metadata": {},
   "outputs": [],
   "source": [
    "for piece in chunke:\n",
    "    tot=tot.add(piece['is_break'].value_counts(),fill_value=0)"
   ]
  },
  {
   "cell_type": "code",
   "execution_count": 102,
   "metadata": {},
   "outputs": [
    {
     "ename": "KeyError",
     "evalue": "'keys'",
     "output_type": "error",
     "traceback": [
      "\u001b[1;31m---------------------------------------------------------------------------\u001b[0m",
      "\u001b[1;31mKeyError\u001b[0m                                  Traceback (most recent call last)",
      "\u001b[1;32mE:\\setup\\anaconda\\lib\\site-packages\\pandas\\core\\indexes\\base.py\u001b[0m in \u001b[0;36mget_loc\u001b[1;34m(self, key, method, tolerance)\u001b[0m\n\u001b[0;32m   2656\u001b[0m             \u001b[1;32mtry\u001b[0m\u001b[1;33m:\u001b[0m\u001b[1;33m\u001b[0m\u001b[1;33m\u001b[0m\u001b[0m\n\u001b[1;32m-> 2657\u001b[1;33m                 \u001b[1;32mreturn\u001b[0m \u001b[0mself\u001b[0m\u001b[1;33m.\u001b[0m\u001b[0m_engine\u001b[0m\u001b[1;33m.\u001b[0m\u001b[0mget_loc\u001b[0m\u001b[1;33m(\u001b[0m\u001b[0mkey\u001b[0m\u001b[1;33m)\u001b[0m\u001b[1;33m\u001b[0m\u001b[1;33m\u001b[0m\u001b[0m\n\u001b[0m\u001b[0;32m   2658\u001b[0m             \u001b[1;32mexcept\u001b[0m \u001b[0mKeyError\u001b[0m\u001b[1;33m:\u001b[0m\u001b[1;33m\u001b[0m\u001b[1;33m\u001b[0m\u001b[0m\n",
      "\u001b[1;32mpandas/_libs/index.pyx\u001b[0m in \u001b[0;36mpandas._libs.index.IndexEngine.get_loc\u001b[1;34m()\u001b[0m\n",
      "\u001b[1;32mpandas/_libs/index.pyx\u001b[0m in \u001b[0;36mpandas._libs.index.IndexEngine.get_loc\u001b[1;34m()\u001b[0m\n",
      "\u001b[1;32mpandas/_libs/hashtable_class_helper.pxi\u001b[0m in \u001b[0;36mpandas._libs.hashtable.PyObjectHashTable.get_item\u001b[1;34m()\u001b[0m\n",
      "\u001b[1;32mpandas/_libs/hashtable_class_helper.pxi\u001b[0m in \u001b[0;36mpandas._libs.hashtable.PyObjectHashTable.get_item\u001b[1;34m()\u001b[0m\n",
      "\u001b[1;31mKeyError\u001b[0m: 'keys'",
      "\nDuring handling of the above exception, another exception occurred:\n",
      "\u001b[1;31mKeyError\u001b[0m                                  Traceback (most recent call last)",
      "\u001b[1;32m<ipython-input-102-5d02c5b25cb1>\u001b[0m in \u001b[0;36m<module>\u001b[1;34m\u001b[0m\n\u001b[0;32m      1\u001b[0m \u001b[1;32mfor\u001b[0m \u001b[0mpiece\u001b[0m \u001b[1;32min\u001b[0m \u001b[0mchunke\u001b[0m\u001b[1;33m:\u001b[0m\u001b[1;33m\u001b[0m\u001b[1;33m\u001b[0m\u001b[0m\n\u001b[1;32m----> 2\u001b[1;33m     \u001b[0mtot\u001b[0m\u001b[1;33m=\u001b[0m\u001b[0mtot\u001b[0m\u001b[1;33m.\u001b[0m\u001b[0madd\u001b[0m\u001b[1;33m(\u001b[0m\u001b[0mpiece\u001b[0m\u001b[1;33m[\u001b[0m\u001b[1;34m'keys'\u001b[0m\u001b[1;33m]\u001b[0m\u001b[1;33m.\u001b[0m\u001b[0mvalue_counts\u001b[0m\u001b[1;33m(\u001b[0m\u001b[1;33m)\u001b[0m\u001b[1;33m,\u001b[0m\u001b[0mfill_value\u001b[0m\u001b[1;33m=\u001b[0m\u001b[1;36m0\u001b[0m\u001b[1;33m)\u001b[0m\u001b[1;33m\u001b[0m\u001b[1;33m\u001b[0m\u001b[0m\n\u001b[0m",
      "\u001b[1;32mE:\\setup\\anaconda\\lib\\site-packages\\pandas\\core\\frame.py\u001b[0m in \u001b[0;36m__getitem__\u001b[1;34m(self, key)\u001b[0m\n\u001b[0;32m   2925\u001b[0m             \u001b[1;32mif\u001b[0m \u001b[0mself\u001b[0m\u001b[1;33m.\u001b[0m\u001b[0mcolumns\u001b[0m\u001b[1;33m.\u001b[0m\u001b[0mnlevels\u001b[0m \u001b[1;33m>\u001b[0m \u001b[1;36m1\u001b[0m\u001b[1;33m:\u001b[0m\u001b[1;33m\u001b[0m\u001b[1;33m\u001b[0m\u001b[0m\n\u001b[0;32m   2926\u001b[0m                 \u001b[1;32mreturn\u001b[0m \u001b[0mself\u001b[0m\u001b[1;33m.\u001b[0m\u001b[0m_getitem_multilevel\u001b[0m\u001b[1;33m(\u001b[0m\u001b[0mkey\u001b[0m\u001b[1;33m)\u001b[0m\u001b[1;33m\u001b[0m\u001b[1;33m\u001b[0m\u001b[0m\n\u001b[1;32m-> 2927\u001b[1;33m             \u001b[0mindexer\u001b[0m \u001b[1;33m=\u001b[0m \u001b[0mself\u001b[0m\u001b[1;33m.\u001b[0m\u001b[0mcolumns\u001b[0m\u001b[1;33m.\u001b[0m\u001b[0mget_loc\u001b[0m\u001b[1;33m(\u001b[0m\u001b[0mkey\u001b[0m\u001b[1;33m)\u001b[0m\u001b[1;33m\u001b[0m\u001b[1;33m\u001b[0m\u001b[0m\n\u001b[0m\u001b[0;32m   2928\u001b[0m             \u001b[1;32mif\u001b[0m \u001b[0mis_integer\u001b[0m\u001b[1;33m(\u001b[0m\u001b[0mindexer\u001b[0m\u001b[1;33m)\u001b[0m\u001b[1;33m:\u001b[0m\u001b[1;33m\u001b[0m\u001b[1;33m\u001b[0m\u001b[0m\n\u001b[0;32m   2929\u001b[0m                 \u001b[0mindexer\u001b[0m \u001b[1;33m=\u001b[0m \u001b[1;33m[\u001b[0m\u001b[0mindexer\u001b[0m\u001b[1;33m]\u001b[0m\u001b[1;33m\u001b[0m\u001b[1;33m\u001b[0m\u001b[0m\n",
      "\u001b[1;32mE:\\setup\\anaconda\\lib\\site-packages\\pandas\\core\\indexes\\base.py\u001b[0m in \u001b[0;36mget_loc\u001b[1;34m(self, key, method, tolerance)\u001b[0m\n\u001b[0;32m   2657\u001b[0m                 \u001b[1;32mreturn\u001b[0m \u001b[0mself\u001b[0m\u001b[1;33m.\u001b[0m\u001b[0m_engine\u001b[0m\u001b[1;33m.\u001b[0m\u001b[0mget_loc\u001b[0m\u001b[1;33m(\u001b[0m\u001b[0mkey\u001b[0m\u001b[1;33m)\u001b[0m\u001b[1;33m\u001b[0m\u001b[1;33m\u001b[0m\u001b[0m\n\u001b[0;32m   2658\u001b[0m             \u001b[1;32mexcept\u001b[0m \u001b[0mKeyError\u001b[0m\u001b[1;33m:\u001b[0m\u001b[1;33m\u001b[0m\u001b[1;33m\u001b[0m\u001b[0m\n\u001b[1;32m-> 2659\u001b[1;33m                 \u001b[1;32mreturn\u001b[0m \u001b[0mself\u001b[0m\u001b[1;33m.\u001b[0m\u001b[0m_engine\u001b[0m\u001b[1;33m.\u001b[0m\u001b[0mget_loc\u001b[0m\u001b[1;33m(\u001b[0m\u001b[0mself\u001b[0m\u001b[1;33m.\u001b[0m\u001b[0m_maybe_cast_indexer\u001b[0m\u001b[1;33m(\u001b[0m\u001b[0mkey\u001b[0m\u001b[1;33m)\u001b[0m\u001b[1;33m)\u001b[0m\u001b[1;33m\u001b[0m\u001b[1;33m\u001b[0m\u001b[0m\n\u001b[0m\u001b[0;32m   2660\u001b[0m         \u001b[0mindexer\u001b[0m \u001b[1;33m=\u001b[0m \u001b[0mself\u001b[0m\u001b[1;33m.\u001b[0m\u001b[0mget_indexer\u001b[0m\u001b[1;33m(\u001b[0m\u001b[1;33m[\u001b[0m\u001b[0mkey\u001b[0m\u001b[1;33m]\u001b[0m\u001b[1;33m,\u001b[0m \u001b[0mmethod\u001b[0m\u001b[1;33m=\u001b[0m\u001b[0mmethod\u001b[0m\u001b[1;33m,\u001b[0m \u001b[0mtolerance\u001b[0m\u001b[1;33m=\u001b[0m\u001b[0mtolerance\u001b[0m\u001b[1;33m)\u001b[0m\u001b[1;33m\u001b[0m\u001b[1;33m\u001b[0m\u001b[0m\n\u001b[0;32m   2661\u001b[0m         \u001b[1;32mif\u001b[0m \u001b[0mindexer\u001b[0m\u001b[1;33m.\u001b[0m\u001b[0mndim\u001b[0m \u001b[1;33m>\u001b[0m \u001b[1;36m1\u001b[0m \u001b[1;32mor\u001b[0m \u001b[0mindexer\u001b[0m\u001b[1;33m.\u001b[0m\u001b[0msize\u001b[0m \u001b[1;33m>\u001b[0m \u001b[1;36m1\u001b[0m\u001b[1;33m:\u001b[0m\u001b[1;33m\u001b[0m\u001b[1;33m\u001b[0m\u001b[0m\n",
      "\u001b[1;32mpandas/_libs/index.pyx\u001b[0m in \u001b[0;36mpandas._libs.index.IndexEngine.get_loc\u001b[1;34m()\u001b[0m\n",
      "\u001b[1;32mpandas/_libs/index.pyx\u001b[0m in \u001b[0;36mpandas._libs.index.IndexEngine.get_loc\u001b[1;34m()\u001b[0m\n",
      "\u001b[1;32mpandas/_libs/hashtable_class_helper.pxi\u001b[0m in \u001b[0;36mpandas._libs.hashtable.PyObjectHashTable.get_item\u001b[1;34m()\u001b[0m\n",
      "\u001b[1;32mpandas/_libs/hashtable_class_helper.pxi\u001b[0m in \u001b[0;36mpandas._libs.hashtable.PyObjectHashTable.get_item\u001b[1;34m()\u001b[0m\n",
      "\u001b[1;31mKeyError\u001b[0m: 'keys'"
     ]
    }
   ],
   "source": [
    "for piece in chunke:\n",
    "    tot=tot.add(piece['keys'].value_counts(),fill_value=0)"
   ]
  },
  {
   "cell_type": "code",
   "execution_count": 103,
   "metadata": {},
   "outputs": [],
   "source": [
    "tot=tot.sort_values()"
   ]
  },
  {
   "cell_type": "code",
   "execution_count": 104,
   "metadata": {},
   "outputs": [
    {
     "data": {
      "text/plain": [
       "Series([], dtype: float64)"
      ]
     },
     "execution_count": 104,
     "metadata": {},
     "output_type": "execute_result"
    }
   ],
   "source": [
    "tot"
   ]
  },
  {
   "cell_type": "code",
   "execution_count": 106,
   "metadata": {},
   "outputs": [
    {
     "data": {
      "text/html": [
       "<div>\n",
       "<style scoped>\n",
       "    .dataframe tbody tr th:only-of-type {\n",
       "        vertical-align: middle;\n",
       "    }\n",
       "\n",
       "    .dataframe tbody tr th {\n",
       "        vertical-align: top;\n",
       "    }\n",
       "\n",
       "    .dataframe thead th {\n",
       "        text-align: right;\n",
       "    }\n",
       "</style>\n",
       "<table border=\"1\" class=\"dataframe\">\n",
       "  <thead>\n",
       "    <tr style=\"text-align: right;\">\n",
       "      <th></th>\n",
       "      <th>amount</th>\n",
       "      <th>days</th>\n",
       "      <th>count</th>\n",
       "      <th>asserts</th>\n",
       "      <th>interval</th>\n",
       "      <th>repay</th>\n",
       "      <th>security</th>\n",
       "      <th>kind</th>\n",
       "      <th>is_break</th>\n",
       "    </tr>\n",
       "  </thead>\n",
       "  <tbody>\n",
       "    <tr>\n",
       "      <th>0</th>\n",
       "      <td>470000.0</td>\n",
       "      <td>6939</td>\n",
       "      <td>1</td>\n",
       "      <td>16421.58</td>\n",
       "      <td>0</td>\n",
       "      <td>等额本金</td>\n",
       "      <td>抵押</td>\n",
       "      <td>住房</td>\n",
       "      <td>0</td>\n",
       "    </tr>\n",
       "    <tr>\n",
       "      <th>1</th>\n",
       "      <td>310000.0</td>\n",
       "      <td>5113</td>\n",
       "      <td>1</td>\n",
       "      <td>3010.21</td>\n",
       "      <td>0</td>\n",
       "      <td>等额本金</td>\n",
       "      <td>抵押</td>\n",
       "      <td>住房</td>\n",
       "      <td>0</td>\n",
       "    </tr>\n",
       "    <tr>\n",
       "      <th>2</th>\n",
       "      <td>400000.0</td>\n",
       "      <td>1096</td>\n",
       "      <td>2</td>\n",
       "      <td>3453.84</td>\n",
       "      <td>-5700</td>\n",
       "      <td>等额本息</td>\n",
       "      <td>抵押</td>\n",
       "      <td>汽车</td>\n",
       "      <td>0</td>\n",
       "    </tr>\n",
       "    <tr>\n",
       "      <th>3</th>\n",
       "      <td>320000.0</td>\n",
       "      <td>7305</td>\n",
       "      <td>1</td>\n",
       "      <td>1844.25</td>\n",
       "      <td>0</td>\n",
       "      <td>等额本息</td>\n",
       "      <td>抵押</td>\n",
       "      <td>住房</td>\n",
       "      <td>0</td>\n",
       "    </tr>\n",
       "    <tr>\n",
       "      <th>4</th>\n",
       "      <td>50000.0</td>\n",
       "      <td>1095</td>\n",
       "      <td>1</td>\n",
       "      <td>314.88</td>\n",
       "      <td>0</td>\n",
       "      <td>按周期结息到期还本</td>\n",
       "      <td>信用</td>\n",
       "      <td>农、林、牧、渔业</td>\n",
       "      <td>0</td>\n",
       "    </tr>\n",
       "  </tbody>\n",
       "</table>\n",
       "</div>"
      ],
      "text/plain": [
       "     amount  days  count   asserts  interval      repay security      kind  \\\n",
       "0  470000.0  6939      1  16421.58         0       等额本金       抵押        住房   \n",
       "1  310000.0  5113      1   3010.21         0       等额本金       抵押        住房   \n",
       "2  400000.0  1096      2   3453.84     -5700       等额本息       抵押        汽车   \n",
       "3  320000.0  7305      1   1844.25         0       等额本息       抵押        住房   \n",
       "4   50000.0  1095      1    314.88         0  按周期结息到期还本       信用  农、林、牧、渔业   \n",
       "\n",
       "   is_break  \n",
       "0         0  \n",
       "1         0  \n",
       "2         0  \n",
       "3         0  \n",
       "4         0  "
      ]
     },
     "execution_count": 106,
     "metadata": {},
     "output_type": "execute_result"
    }
   ],
   "source": [
    "data"
   ]
  },
  {
   "cell_type": "code",
   "execution_count": 107,
   "metadata": {},
   "outputs": [],
   "source": [
    "import sys"
   ]
  },
  {
   "cell_type": "code",
   "execution_count": 114,
   "metadata": {},
   "outputs": [],
   "source": [
    "import numpy as np"
   ]
  },
  {
   "cell_type": "code",
   "execution_count": 108,
   "metadata": {},
   "outputs": [
    {
     "name": "stdout",
     "output_type": "stream",
     "text": [
      "|amount|days|count|asserts|interval|repay|security|kind|is_break\r\n",
      "0|470000.0|6939|1|16421.58|0|等额本金|抵押|住房|0\r\n",
      "1|310000.0|5113|1|3010.21|0|等额本金|抵押|住房|0\r\n",
      "2|400000.0|1096|2|3453.84|-5700|等额本息|抵押|汽车|0\r\n",
      "3|320000.0|7305|1|1844.25|0|等额本息|抵押|住房|0\r\n",
      "4|50000.0|1095|1|314.88|0|按周期结息到期还本|信用|农、林、牧、渔业|0\r\n"
     ]
    }
   ],
   "source": [
    "data.to_csv(sys.stdout, sep='|')"
   ]
  },
  {
   "cell_type": "code",
   "execution_count": 109,
   "metadata": {},
   "outputs": [
    {
     "name": "stdout",
     "output_type": "stream",
     "text": [
      "470000.0,6939,1,16421.58,0,等额本金,抵押,住房,0\r\n",
      "310000.0,5113,1,3010.21,0,等额本金,抵押,住房,0\r\n",
      "400000.0,1096,2,3453.84,-5700,等额本息,抵押,汽车,0\r\n",
      "320000.0,7305,1,1844.25,0,等额本息,抵押,住房,0\r\n",
      "50000.0,1095,1,314.88,0,按周期结息到期还本,信用,农、林、牧、渔业,0\r\n"
     ]
    }
   ],
   "source": [
    "data.to_csv(sys.stdout, index=False, header=False)"
   ]
  },
  {
   "cell_type": "code",
   "execution_count": 111,
   "metadata": {},
   "outputs": [],
   "source": [
    "dates=pd.date_range('1/1/2000',periods=7)"
   ]
  },
  {
   "cell_type": "code",
   "execution_count": 112,
   "metadata": {},
   "outputs": [
    {
     "data": {
      "text/plain": [
       "DatetimeIndex(['2000-01-01', '2000-01-02', '2000-01-03', '2000-01-04',\n",
       "               '2000-01-05', '2000-01-06', '2000-01-07'],\n",
       "              dtype='datetime64[ns]', freq='D')"
      ]
     },
     "execution_count": 112,
     "metadata": {},
     "output_type": "execute_result"
    }
   ],
   "source": [
    "dates"
   ]
  },
  {
   "cell_type": "code",
   "execution_count": 115,
   "metadata": {},
   "outputs": [],
   "source": [
    "ts=pd.Series(np.arange(7), index=dates)"
   ]
  },
  {
   "cell_type": "code",
   "execution_count": 116,
   "metadata": {},
   "outputs": [
    {
     "name": "stdout",
     "output_type": "stream",
     "text": [
      "2000-01-01,0\r\n",
      "2000-01-02,1\r\n",
      "2000-01-03,2\r\n",
      "2000-01-04,3\r\n",
      "2000-01-05,4\r\n",
      "2000-01-06,5\r\n",
      "2000-01-07,6\r\n"
     ]
    },
    {
     "name": "stderr",
     "output_type": "stream",
     "text": [
      "E:\\setup\\anaconda\\lib\\site-packages\\ipykernel_launcher.py:1: FutureWarning: The signature of `Series.to_csv` was aligned to that of `DataFrame.to_csv`, and argument 'header' will change its default value from False to True: please pass an explicit value to suppress this warning.\n",
      "  \"\"\"Entry point for launching an IPython kernel.\n"
     ]
    }
   ],
   "source": [
    "ts.to_csv(sys.stdout)"
   ]
  },
  {
   "cell_type": "code",
   "execution_count": 117,
   "metadata": {},
   "outputs": [],
   "source": [
    "import csv"
   ]
  },
  {
   "cell_type": "code",
   "execution_count": 119,
   "metadata": {},
   "outputs": [],
   "source": [
    "f=open('exer.csv')"
   ]
  },
  {
   "cell_type": "code",
   "execution_count": 120,
   "metadata": {},
   "outputs": [],
   "source": [
    "reader=csv.reader(f)"
   ]
  },
  {
   "cell_type": "code",
   "execution_count": 122,
   "metadata": {},
   "outputs": [
    {
     "name": "stdout",
     "output_type": "stream",
     "text": [
      "['470000.0', '6939', '1', '16421.58', '0', '', 'foo', '住房', '0']\n",
      "['310000.00', '5113', '', '3010.21', '0', '等额本金', '抵押', '住房', '0']\n",
      "['400000.0', '1096', '2', '3453.84', '-5700', '等额本息', '抵押', '汽车', '0']\n",
      "['320000.0', '7305', '1', '1844.25', '0', '等额本息', '抵押', '住房', '0']\n"
     ]
    }
   ],
   "source": [
    "for line in reader:\n",
    "    print(line)"
   ]
  },
  {
   "cell_type": "code",
   "execution_count": 124,
   "metadata": {},
   "outputs": [],
   "source": [
    "with open('exer.csv') as f:\n",
    "    lines=list(csv.reader(f))"
   ]
  },
  {
   "cell_type": "code",
   "execution_count": 125,
   "metadata": {},
   "outputs": [
    {
     "data": {
      "text/plain": [
       "[['470000.0', '6939', '1', '16421.58', '0', '', 'foo', '住房', '0'],\n",
       " ['310000.00', '5113', '', '3010.21', '0', '等额本金', '抵押', '住房', '0'],\n",
       " ['400000.0', '1096', '2', '3453.84', '-5700', '等额本息', '抵押', '汽车', '0'],\n",
       " ['320000.0', '7305', '1', '1844.25', '0', '等额本息', '抵押', '住房', '0']]"
      ]
     },
     "execution_count": 125,
     "metadata": {},
     "output_type": "execute_result"
    }
   ],
   "source": [
    "lines"
   ]
  },
  {
   "cell_type": "code",
   "execution_count": 134,
   "metadata": {},
   "outputs": [],
   "source": [
    "obj = \"\"\"{\"name\":\"Wes\",\"places\":[\"United States\",\"Spain\"],\"pet\":null}\"\"\""
   ]
  },
  {
   "cell_type": "code",
   "execution_count": 135,
   "metadata": {},
   "outputs": [],
   "source": [
    "import json"
   ]
  },
  {
   "cell_type": "code",
   "execution_count": 136,
   "metadata": {},
   "outputs": [],
   "source": [
    "ret=json.loads(obj)"
   ]
  },
  {
   "cell_type": "code",
   "execution_count": 137,
   "metadata": {},
   "outputs": [],
   "source": [
    "j=json.dumps(ret)"
   ]
  },
  {
   "cell_type": "code",
   "execution_count": 138,
   "metadata": {},
   "outputs": [
    {
     "data": {
      "text/plain": [
       "{'name': 'Wes', 'places': ['United States', 'Spain'], 'pet': None}"
      ]
     },
     "execution_count": 138,
     "metadata": {},
     "output_type": "execute_result"
    }
   ],
   "source": [
    "ret"
   ]
  },
  {
   "cell_type": "code",
   "execution_count": 139,
   "metadata": {},
   "outputs": [
    {
     "data": {
      "text/plain": [
       "'{\"name\": \"Wes\", \"places\": [\"United States\", \"Spain\"], \"pet\": null}'"
      ]
     },
     "execution_count": 139,
     "metadata": {},
     "output_type": "execute_result"
    }
   ],
   "source": [
    "j"
   ]
  },
  {
   "cell_type": "code",
   "execution_count": 141,
   "metadata": {},
   "outputs": [
    {
     "data": {
      "text/html": [
       "<div>\n",
       "<style scoped>\n",
       "    .dataframe tbody tr th:only-of-type {\n",
       "        vertical-align: middle;\n",
       "    }\n",
       "\n",
       "    .dataframe tbody tr th {\n",
       "        vertical-align: top;\n",
       "    }\n",
       "\n",
       "    .dataframe thead th {\n",
       "        text-align: right;\n",
       "    }\n",
       "</style>\n",
       "<table border=\"1\" class=\"dataframe\">\n",
       "  <thead>\n",
       "    <tr style=\"text-align: right;\">\n",
       "      <th></th>\n",
       "      <th>amount</th>\n",
       "      <th>days</th>\n",
       "      <th>count</th>\n",
       "      <th>asserts</th>\n",
       "      <th>interval</th>\n",
       "      <th>repay</th>\n",
       "      <th>security</th>\n",
       "      <th>kind</th>\n",
       "      <th>is_break</th>\n",
       "    </tr>\n",
       "  </thead>\n",
       "  <tbody>\n",
       "    <tr>\n",
       "      <th>0</th>\n",
       "      <td>470000.0</td>\n",
       "      <td>6939</td>\n",
       "      <td>1</td>\n",
       "      <td>16421.58</td>\n",
       "      <td>0</td>\n",
       "      <td>等额本金</td>\n",
       "      <td>抵押</td>\n",
       "      <td>住房</td>\n",
       "      <td>0</td>\n",
       "    </tr>\n",
       "    <tr>\n",
       "      <th>1</th>\n",
       "      <td>310000.0</td>\n",
       "      <td>5113</td>\n",
       "      <td>1</td>\n",
       "      <td>3010.21</td>\n",
       "      <td>0</td>\n",
       "      <td>等额本金</td>\n",
       "      <td>抵押</td>\n",
       "      <td>住房</td>\n",
       "      <td>0</td>\n",
       "    </tr>\n",
       "    <tr>\n",
       "      <th>2</th>\n",
       "      <td>400000.0</td>\n",
       "      <td>1096</td>\n",
       "      <td>2</td>\n",
       "      <td>3453.84</td>\n",
       "      <td>-5700</td>\n",
       "      <td>等额本息</td>\n",
       "      <td>抵押</td>\n",
       "      <td>汽车</td>\n",
       "      <td>0</td>\n",
       "    </tr>\n",
       "    <tr>\n",
       "      <th>3</th>\n",
       "      <td>320000.0</td>\n",
       "      <td>7305</td>\n",
       "      <td>1</td>\n",
       "      <td>1844.25</td>\n",
       "      <td>0</td>\n",
       "      <td>等额本息</td>\n",
       "      <td>抵押</td>\n",
       "      <td>住房</td>\n",
       "      <td>0</td>\n",
       "    </tr>\n",
       "    <tr>\n",
       "      <th>4</th>\n",
       "      <td>50000.0</td>\n",
       "      <td>1095</td>\n",
       "      <td>1</td>\n",
       "      <td>314.88</td>\n",
       "      <td>0</td>\n",
       "      <td>按周期结息到期还本</td>\n",
       "      <td>信用</td>\n",
       "      <td>农、林、牧、渔业</td>\n",
       "      <td>0</td>\n",
       "    </tr>\n",
       "  </tbody>\n",
       "</table>\n",
       "</div>"
      ],
      "text/plain": [
       "     amount  days  count   asserts  interval      repay security      kind  \\\n",
       "0  470000.0  6939      1  16421.58         0       等额本金       抵押        住房   \n",
       "1  310000.0  5113      1   3010.21         0       等额本金       抵押        住房   \n",
       "2  400000.0  1096      2   3453.84     -5700       等额本息       抵押        汽车   \n",
       "3  320000.0  7305      1   1844.25         0       等额本息       抵押        住房   \n",
       "4   50000.0  1095      1    314.88         0  按周期结息到期还本       信用  农、林、牧、渔业   \n",
       "\n",
       "   is_break  \n",
       "0         0  \n",
       "1         0  \n",
       "2         0  \n",
       "3         0  \n",
       "4         0  "
      ]
     },
     "execution_count": 141,
     "metadata": {},
     "output_type": "execute_result"
    }
   ],
   "source": [
    "data"
   ]
  },
  {
   "cell_type": "code",
   "execution_count": 142,
   "metadata": {
    "scrolled": true
   },
   "outputs": [
    {
     "data": {
      "text/plain": [
       "'{\"amount\":{\"0\":470000.0,\"1\":310000.0,\"2\":400000.0,\"3\":320000.0,\"4\":50000.0},\"days\":{\"0\":6939,\"1\":5113,\"2\":1096,\"3\":7305,\"4\":1095},\"count\":{\"0\":1,\"1\":1,\"2\":2,\"3\":1,\"4\":1},\"asserts\":{\"0\":16421.58,\"1\":3010.21,\"2\":3453.84,\"3\":1844.25,\"4\":314.88},\"interval\":{\"0\":0,\"1\":0,\"2\":-5700,\"3\":0,\"4\":0},\"repay\":{\"0\":\"\\\\u7b49\\\\u989d\\\\u672c\\\\u91d1\",\"1\":\"\\\\u7b49\\\\u989d\\\\u672c\\\\u91d1\",\"2\":\"\\\\u7b49\\\\u989d\\\\u672c\\\\u606f\",\"3\":\"\\\\u7b49\\\\u989d\\\\u672c\\\\u606f\",\"4\":\"\\\\u6309\\\\u5468\\\\u671f\\\\u7ed3\\\\u606f\\\\u5230\\\\u671f\\\\u8fd8\\\\u672c\"},\"security\":{\"0\":\"\\\\u62b5\\\\u62bc\",\"1\":\"\\\\u62b5\\\\u62bc\",\"2\":\"\\\\u62b5\\\\u62bc\",\"3\":\"\\\\u62b5\\\\u62bc\",\"4\":\"\\\\u4fe1\\\\u7528\"},\"kind\":{\"0\":\"\\\\u4f4f\\\\u623f\",\"1\":\"\\\\u4f4f\\\\u623f\",\"2\":\"\\\\u6c7d\\\\u8f66\",\"3\":\"\\\\u4f4f\\\\u623f\",\"4\":\"\\\\u519c\\\\u3001\\\\u6797\\\\u3001\\\\u7267\\\\u3001\\\\u6e14\\\\u4e1a\"},\"is_break\":{\"0\":0,\"1\":0,\"2\":0,\"3\":0,\"4\":0}}'"
      ]
     },
     "execution_count": 142,
     "metadata": {},
     "output_type": "execute_result"
    }
   ],
   "source": [
    "data.to_json()"
   ]
  },
  {
   "cell_type": "code",
   "execution_count": 143,
   "metadata": {},
   "outputs": [
    {
     "data": {
      "text/plain": [
       "'[{\"amount\":470000.0,\"days\":6939,\"count\":1,\"asserts\":16421.58,\"interval\":0,\"repay\":\"\\\\u7b49\\\\u989d\\\\u672c\\\\u91d1\",\"security\":\"\\\\u62b5\\\\u62bc\",\"kind\":\"\\\\u4f4f\\\\u623f\",\"is_break\":0},{\"amount\":310000.0,\"days\":5113,\"count\":1,\"asserts\":3010.21,\"interval\":0,\"repay\":\"\\\\u7b49\\\\u989d\\\\u672c\\\\u91d1\",\"security\":\"\\\\u62b5\\\\u62bc\",\"kind\":\"\\\\u4f4f\\\\u623f\",\"is_break\":0},{\"amount\":400000.0,\"days\":1096,\"count\":2,\"asserts\":3453.84,\"interval\":-5700,\"repay\":\"\\\\u7b49\\\\u989d\\\\u672c\\\\u606f\",\"security\":\"\\\\u62b5\\\\u62bc\",\"kind\":\"\\\\u6c7d\\\\u8f66\",\"is_break\":0},{\"amount\":320000.0,\"days\":7305,\"count\":1,\"asserts\":1844.25,\"interval\":0,\"repay\":\"\\\\u7b49\\\\u989d\\\\u672c\\\\u606f\",\"security\":\"\\\\u62b5\\\\u62bc\",\"kind\":\"\\\\u4f4f\\\\u623f\",\"is_break\":0},{\"amount\":50000.0,\"days\":1095,\"count\":1,\"asserts\":314.88,\"interval\":0,\"repay\":\"\\\\u6309\\\\u5468\\\\u671f\\\\u7ed3\\\\u606f\\\\u5230\\\\u671f\\\\u8fd8\\\\u672c\",\"security\":\"\\\\u4fe1\\\\u7528\",\"kind\":\"\\\\u519c\\\\u3001\\\\u6797\\\\u3001\\\\u7267\\\\u3001\\\\u6e14\\\\u4e1a\",\"is_break\":0}]'"
      ]
     },
     "execution_count": 143,
     "metadata": {},
     "output_type": "execute_result"
    }
   ],
   "source": [
    "data.to_json(orient='records')"
   ]
  },
  {
   "cell_type": "code",
   "execution_count": null,
   "metadata": {},
   "outputs": [],
   "source": [
    "tables=pd.read_html()"
   ]
  },
  {
   "cell_type": "code",
   "execution_count": 144,
   "metadata": {},
   "outputs": [
    {
     "data": {
      "text/plain": [
       "DatetimeIndex(['2000-01-01', '2000-01-02', '2000-01-03', '2000-01-04',\n",
       "               '2000-01-05', '2000-01-06', '2000-01-07'],\n",
       "              dtype='datetime64[ns]', freq='D')"
      ]
     },
     "execution_count": 144,
     "metadata": {},
     "output_type": "execute_result"
    }
   ],
   "source": [
    "dates"
   ]
  },
  {
   "cell_type": "code",
   "execution_count": 145,
   "metadata": {},
   "outputs": [
    {
     "data": {
      "text/plain": [
       "Int64Index([2000, 2000, 2000, 2000, 2000, 2000, 2000], dtype='int64')"
      ]
     },
     "execution_count": 145,
     "metadata": {},
     "output_type": "execute_result"
    }
   ],
   "source": [
    "dates.year"
   ]
  },
  {
   "cell_type": "code",
   "execution_count": 146,
   "metadata": {},
   "outputs": [],
   "source": [
    "from io import StringIO"
   ]
  },
  {
   "cell_type": "code",
   "execution_count": 148,
   "metadata": {},
   "outputs": [],
   "source": [
    "from lxml import objectify"
   ]
  },
  {
   "cell_type": "code",
   "execution_count": 149,
   "metadata": {},
   "outputs": [],
   "source": [
    "tag='<a href=\"http://www.baidu.com\">baidu</a>'"
   ]
  },
  {
   "cell_type": "code",
   "execution_count": 150,
   "metadata": {},
   "outputs": [],
   "source": [
    "root=objectify.parse(StringIO(tag)).getroot()"
   ]
  },
  {
   "cell_type": "code",
   "execution_count": 151,
   "metadata": {},
   "outputs": [
    {
     "data": {
      "text/plain": [
       "<Element a at 0xb851c88>"
      ]
     },
     "execution_count": 151,
     "metadata": {},
     "output_type": "execute_result"
    }
   ],
   "source": [
    "root"
   ]
  },
  {
   "cell_type": "code",
   "execution_count": 152,
   "metadata": {},
   "outputs": [
    {
     "data": {
      "text/plain": [
       "'http://www.baidu.com'"
      ]
     },
     "execution_count": 152,
     "metadata": {},
     "output_type": "execute_result"
    }
   ],
   "source": [
    "root.get('href')"
   ]
  },
  {
   "cell_type": "code",
   "execution_count": 153,
   "metadata": {},
   "outputs": [
    {
     "data": {
      "text/plain": [
       "'baidu'"
      ]
     },
     "execution_count": 153,
     "metadata": {},
     "output_type": "execute_result"
    }
   ],
   "source": [
    "root.text"
   ]
  },
  {
   "cell_type": "code",
   "execution_count": 155,
   "metadata": {},
   "outputs": [
    {
     "data": {
      "text/html": [
       "<div>\n",
       "<style scoped>\n",
       "    .dataframe tbody tr th:only-of-type {\n",
       "        vertical-align: middle;\n",
       "    }\n",
       "\n",
       "    .dataframe tbody tr th {\n",
       "        vertical-align: top;\n",
       "    }\n",
       "\n",
       "    .dataframe thead th {\n",
       "        text-align: right;\n",
       "    }\n",
       "</style>\n",
       "<table border=\"1\" class=\"dataframe\">\n",
       "  <thead>\n",
       "    <tr style=\"text-align: right;\">\n",
       "      <th></th>\n",
       "      <th>amount</th>\n",
       "      <th>days</th>\n",
       "      <th>count</th>\n",
       "      <th>asserts</th>\n",
       "      <th>interval</th>\n",
       "      <th>repay</th>\n",
       "      <th>security</th>\n",
       "      <th>kind</th>\n",
       "      <th>is_break</th>\n",
       "    </tr>\n",
       "  </thead>\n",
       "  <tbody>\n",
       "    <tr>\n",
       "      <th>0</th>\n",
       "      <td>470000.0</td>\n",
       "      <td>6939</td>\n",
       "      <td>1</td>\n",
       "      <td>16421.58</td>\n",
       "      <td>0</td>\n",
       "      <td>等额本金</td>\n",
       "      <td>抵押</td>\n",
       "      <td>住房</td>\n",
       "      <td>0</td>\n",
       "    </tr>\n",
       "    <tr>\n",
       "      <th>1</th>\n",
       "      <td>310000.0</td>\n",
       "      <td>5113</td>\n",
       "      <td>1</td>\n",
       "      <td>3010.21</td>\n",
       "      <td>0</td>\n",
       "      <td>等额本金</td>\n",
       "      <td>抵押</td>\n",
       "      <td>住房</td>\n",
       "      <td>0</td>\n",
       "    </tr>\n",
       "    <tr>\n",
       "      <th>2</th>\n",
       "      <td>400000.0</td>\n",
       "      <td>1096</td>\n",
       "      <td>2</td>\n",
       "      <td>3453.84</td>\n",
       "      <td>-5700</td>\n",
       "      <td>等额本息</td>\n",
       "      <td>抵押</td>\n",
       "      <td>汽车</td>\n",
       "      <td>0</td>\n",
       "    </tr>\n",
       "    <tr>\n",
       "      <th>3</th>\n",
       "      <td>320000.0</td>\n",
       "      <td>7305</td>\n",
       "      <td>1</td>\n",
       "      <td>1844.25</td>\n",
       "      <td>0</td>\n",
       "      <td>等额本息</td>\n",
       "      <td>抵押</td>\n",
       "      <td>住房</td>\n",
       "      <td>0</td>\n",
       "    </tr>\n",
       "    <tr>\n",
       "      <th>4</th>\n",
       "      <td>50000.0</td>\n",
       "      <td>1095</td>\n",
       "      <td>1</td>\n",
       "      <td>314.88</td>\n",
       "      <td>0</td>\n",
       "      <td>按周期结息到期还本</td>\n",
       "      <td>信用</td>\n",
       "      <td>农、林、牧、渔业</td>\n",
       "      <td>0</td>\n",
       "    </tr>\n",
       "  </tbody>\n",
       "</table>\n",
       "</div>"
      ],
      "text/plain": [
       "     amount  days  count   asserts  interval      repay security      kind  \\\n",
       "0  470000.0  6939      1  16421.58         0       等额本金       抵押        住房   \n",
       "1  310000.0  5113      1   3010.21         0       等额本金       抵押        住房   \n",
       "2  400000.0  1096      2   3453.84     -5700       等额本息       抵押        汽车   \n",
       "3  320000.0  7305      1   1844.25         0       等额本息       抵押        住房   \n",
       "4   50000.0  1095      1    314.88         0  按周期结息到期还本       信用  农、林、牧、渔业   \n",
       "\n",
       "   is_break  \n",
       "0         0  \n",
       "1         0  \n",
       "2         0  \n",
       "3         0  \n",
       "4         0  "
      ]
     },
     "execution_count": 155,
     "metadata": {},
     "output_type": "execute_result"
    }
   ],
   "source": [
    "data"
   ]
  },
  {
   "cell_type": "code",
   "execution_count": 156,
   "metadata": {},
   "outputs": [],
   "source": [
    "data.to_pickle('data_pickle')"
   ]
  },
  {
   "cell_type": "code",
   "execution_count": 157,
   "metadata": {},
   "outputs": [
    {
     "data": {
      "text/html": [
       "<div>\n",
       "<style scoped>\n",
       "    .dataframe tbody tr th:only-of-type {\n",
       "        vertical-align: middle;\n",
       "    }\n",
       "\n",
       "    .dataframe tbody tr th {\n",
       "        vertical-align: top;\n",
       "    }\n",
       "\n",
       "    .dataframe thead th {\n",
       "        text-align: right;\n",
       "    }\n",
       "</style>\n",
       "<table border=\"1\" class=\"dataframe\">\n",
       "  <thead>\n",
       "    <tr style=\"text-align: right;\">\n",
       "      <th></th>\n",
       "      <th>amount</th>\n",
       "      <th>days</th>\n",
       "      <th>count</th>\n",
       "      <th>asserts</th>\n",
       "      <th>interval</th>\n",
       "      <th>repay</th>\n",
       "      <th>security</th>\n",
       "      <th>kind</th>\n",
       "      <th>is_break</th>\n",
       "    </tr>\n",
       "  </thead>\n",
       "  <tbody>\n",
       "    <tr>\n",
       "      <th>0</th>\n",
       "      <td>470000.0</td>\n",
       "      <td>6939</td>\n",
       "      <td>1</td>\n",
       "      <td>16421.58</td>\n",
       "      <td>0</td>\n",
       "      <td>等额本金</td>\n",
       "      <td>抵押</td>\n",
       "      <td>住房</td>\n",
       "      <td>0</td>\n",
       "    </tr>\n",
       "    <tr>\n",
       "      <th>1</th>\n",
       "      <td>310000.0</td>\n",
       "      <td>5113</td>\n",
       "      <td>1</td>\n",
       "      <td>3010.21</td>\n",
       "      <td>0</td>\n",
       "      <td>等额本金</td>\n",
       "      <td>抵押</td>\n",
       "      <td>住房</td>\n",
       "      <td>0</td>\n",
       "    </tr>\n",
       "    <tr>\n",
       "      <th>2</th>\n",
       "      <td>400000.0</td>\n",
       "      <td>1096</td>\n",
       "      <td>2</td>\n",
       "      <td>3453.84</td>\n",
       "      <td>-5700</td>\n",
       "      <td>等额本息</td>\n",
       "      <td>抵押</td>\n",
       "      <td>汽车</td>\n",
       "      <td>0</td>\n",
       "    </tr>\n",
       "    <tr>\n",
       "      <th>3</th>\n",
       "      <td>320000.0</td>\n",
       "      <td>7305</td>\n",
       "      <td>1</td>\n",
       "      <td>1844.25</td>\n",
       "      <td>0</td>\n",
       "      <td>等额本息</td>\n",
       "      <td>抵押</td>\n",
       "      <td>住房</td>\n",
       "      <td>0</td>\n",
       "    </tr>\n",
       "    <tr>\n",
       "      <th>4</th>\n",
       "      <td>50000.0</td>\n",
       "      <td>1095</td>\n",
       "      <td>1</td>\n",
       "      <td>314.88</td>\n",
       "      <td>0</td>\n",
       "      <td>按周期结息到期还本</td>\n",
       "      <td>信用</td>\n",
       "      <td>农、林、牧、渔业</td>\n",
       "      <td>0</td>\n",
       "    </tr>\n",
       "  </tbody>\n",
       "</table>\n",
       "</div>"
      ],
      "text/plain": [
       "     amount  days  count   asserts  interval      repay security      kind  \\\n",
       "0  470000.0  6939      1  16421.58         0       等额本金       抵押        住房   \n",
       "1  310000.0  5113      1   3010.21         0       等额本金       抵押        住房   \n",
       "2  400000.0  1096      2   3453.84     -5700       等额本息       抵押        汽车   \n",
       "3  320000.0  7305      1   1844.25         0       等额本息       抵押        住房   \n",
       "4   50000.0  1095      1    314.88         0  按周期结息到期还本       信用  农、林、牧、渔业   \n",
       "\n",
       "   is_break  \n",
       "0         0  \n",
       "1         0  \n",
       "2         0  \n",
       "3         0  \n",
       "4         0  "
      ]
     },
     "execution_count": 157,
     "metadata": {},
     "output_type": "execute_result"
    }
   ],
   "source": [
    "pd.read_pickle('data_pickle')"
   ]
  },
  {
   "cell_type": "code",
   "execution_count": null,
   "metadata": {},
   "outputs": [],
   "source": []
  }
 ],
 "metadata": {
  "kernelspec": {
   "display_name": "Python 3",
   "language": "python",
   "name": "python3"
  },
  "language_info": {
   "codemirror_mode": {
    "name": "ipython",
    "version": 3
   },
   "file_extension": ".py",
   "mimetype": "text/x-python",
   "name": "python",
   "nbconvert_exporter": "python",
   "pygments_lexer": "ipython3",
   "version": "3.7.3"
  }
 },
 "nbformat": 4,
 "nbformat_minor": 2
}
